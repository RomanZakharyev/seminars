{
 "cells": [
  {
   "cell_type": "markdown",
   "metadata": {},
   "source": [
    "# Модуль для работы с массивами `numpy`"
   ]
  },
  {
   "cell_type": "code",
   "execution_count": 1,
   "metadata": {},
   "outputs": [
    {
     "name": "stdout",
     "output_type": "stream",
     "text": [
      "[ 1.00e+00  1.00e+01  5.53e+01 -1.00e+23]\n",
      "[ 2.000e+00  2.000e+01  1.106e+02 -2.000e+23]\n",
      "[1.00000e+00 1.00000e+02 3.05809e+03 1.00000e+46]\n",
      "(4,)\n",
      "4\n",
      "float64\n",
      "<class 'numpy.ndarray'>\n"
     ]
    }
   ],
   "source": [
    "import numpy as np\n",
    "\n",
    "a = np.array([1, 10, 55.3, -1e23])\n",
    "print(a)\n",
    "print(2 * a)\n",
    "print(a**2)\n",
    "print(a.shape)\n",
    "print(a.size)\n",
    "assert np.prod(a.shape) == a.size\n",
    "assert len(a.shape) == a.ndim\n",
    "print(a.dtype)\n",
    "print(type(a))"
   ]
  },
  {
   "cell_type": "code",
   "execution_count": 2,
   "metadata": {},
   "outputs": [
    {
     "name": "stdout",
     "output_type": "stream",
     "text": [
      "[[9 8 7]\n",
      " [6 5 4]\n",
      " [3 2 1]]\n",
      "[[18 16 14]\n",
      " [12 10  8]\n",
      " [ 6  4  2]]\n",
      "[[18 24 28]\n",
      " [12 15 16]\n",
      " [ 6  6  4]]\n",
      "(3, 3)\n",
      "9\n"
     ]
    }
   ],
   "source": [
    "b = np.array([[9, 8, 7],\n",
    "              [6, 5, 4],\n",
    "              [3, 2, 1]])\n",
    "print(b)\n",
    "print(2 * b)\n",
    "print(b * [2, 3, 4])\n",
    "print(b.shape)\n",
    "print(b.size)\n",
    "assert np.prod(a.shape) == a.size\n",
    "assert len(b.shape) == b.ndim"
   ]
  },
  {
   "cell_type": "code",
   "execution_count": 3,
   "metadata": {},
   "outputs": [
    {
     "name": "stdout",
     "output_type": "stream",
     "text": [
      "int64\n",
      "-3535985420588157519 42391158275216203514294433201 Почему числа не равны?\n"
     ]
    }
   ],
   "source": [
    "int_b = b.astype(int)\n",
    "print(int_b.dtype)\n",
    "print(int_b[0,0]**30, int(b[0,0])**30, 'Почему числа не равны?')"
   ]
  },
  {
   "cell_type": "markdown",
   "metadata": {},
   "source": [
    "## Создание массивов"
   ]
  },
  {
   "cell_type": "code",
   "execution_count": 4,
   "metadata": {},
   "outputs": [
    {
     "name": "stdout",
     "output_type": "stream",
     "text": [
      "[0 1 2 3 4 5 6 7 8 9]\n",
      "[10  9  8  7  6  5  4  3  2  1  0]\n",
      "[0.         0.33333333 0.66666667 1.         1.33333333 1.66666667\n",
      " 2.         2.33333333]\n",
      "[0.         0.33333333 0.66666667 1.         1.33333333 1.66666667\n",
      " 2.        ]\n"
     ]
    }
   ],
   "source": [
    "a = np.arange(10)  # как range, но создает numpy.ndarray\n",
    "print(a)\n",
    "a = np.arange(10, -1, -1)\n",
    "print(a)\n",
    "# Если мы хотим создать сетку, то лучше не использовать эту функцию\n",
    "# Смотрите сами, предположим нам нужны точки от 0 до 2 включительно c шагом 1/3:\n",
    "a = np.arange(0, 2 + 1/3, 1/3)\n",
    "print(a)\n",
    "# Другое дело с np.linspace:\n",
    "a = np.linspace(0, 2, 7)\n",
    "print(a)"
   ]
  },
  {
   "cell_type": "markdown",
   "metadata": {},
   "source": [
    "### Пустой массив\n",
    "Если вам нужно лишь выделить память, а сам массив вы заполните потом:"
   ]
  },
  {
   "cell_type": "code",
   "execution_count": 5,
   "metadata": {},
   "outputs": [
    {
     "name": "stdout",
     "output_type": "stream",
     "text": [
      "Тут лажеит «мусор», но не случайный:\n",
      " [0.0e+000 4.9e-324 9.9e-324 1.5e-323 2.0e-323 2.5e-323 3.0e-323 3.5e-323\n",
      " 4.0e-323 4.4e-323]\n",
      "Тоже мусор, но разложенный по-другому:\n",
      " [[2.31584178e+077 2.31584178e+077 2.96439388e-323 0.00000000e+000]\n",
      " [2.31584178e+077 1.61590357e+184 6.86889100e-091 3.73455097e-061]\n",
      " [3.61296025e+174 1.47862178e+185 3.99910963e+252 8.80225074e-309]]\n"
     ]
    }
   ],
   "source": [
    "a = np.empty(10, dtype=np.float)\n",
    "print('Тут лажеит «мусор», но не случайный:\\n', a)\n",
    "a = np.empty((3, 4))  # Можно указывать любой shape\n",
    "print('Тоже мусор, но разложенный по-другому:\\n', a)"
   ]
  },
  {
   "cell_type": "markdown",
   "metadata": {},
   "source": [
    "### Заполненные массивы\n",
    "В качестве первого аргумента всегда `shape` создаваемого массива или целое число, если массив одномерный\n",
    "В современном `numpy` тип элементов (`dtype`) по-умолчанию — `float`"
   ]
  },
  {
   "cell_type": "code",
   "execution_count": 6,
   "metadata": {},
   "outputs": [
    {
     "name": "stdout",
     "output_type": "stream",
     "text": [
      "[0. 0. 0. 0. 0. 0. 0. 0. 0. 0.]\n",
      "[[255 255]\n",
      " [255 255]\n",
      " [255 255]]\n"
     ]
    }
   ],
   "source": [
    "zeros_float = np.zeros(10)\n",
    "print(zeros_float)\n",
    "uint8 = np.zeros((3, 2), dtype=np.uint8)\n",
    "uint8 -= 1\n",
    "print(uint8)"
   ]
  },
  {
   "cell_type": "code",
   "execution_count": 7,
   "metadata": {},
   "outputs": [
    {
     "name": "stdout",
     "output_type": "stream",
     "text": [
      "[1. 1. 1. 1. 1. 1. 1. 1. 1. 1. 1.]\n",
      "[['1' '1']\n",
      " ['1' '1']]\n"
     ]
    }
   ],
   "source": [
    "ones_float = np.ones(11)\n",
    "print(ones_float)\n",
    "ones_str = np.ones((2, 2), dtype=str)\n",
    "print(ones_str)"
   ]
  },
  {
   "cell_type": "code",
   "execution_count": 8,
   "metadata": {},
   "outputs": [
    {
     "name": "stdout",
     "output_type": "stream",
     "text": [
      "[[2 2 2 2]\n",
      " [2 2 2 2]\n",
      " [2 2 2 2]]\n"
     ]
    }
   ],
   "source": [
    "twos = np.full((3, 4), 2, dtype=int)\n",
    "print(twos)"
   ]
  },
  {
   "cell_type": "markdown",
   "metadata": {},
   "source": [
    "Если вам нужно создать новый массив по форме и, быть может, по типу элементов похожий на старый, то используйте функции `np.*_like()`. Они работают точно как предыдущие функции, но в качестве первого элемента принимают не размер, а другой массив."
   ]
  },
  {
   "cell_type": "code",
   "execution_count": 9,
   "metadata": {},
   "outputs": [
    {
     "name": "stdout",
     "output_type": "stream",
     "text": [
      "[3 3 3 3 3 3 3 3]\n",
      "[3.14159265 3.14159265 3.14159265 3.14159265 3.14159265 3.14159265\n",
      " 3.14159265 3.14159265]\n",
      "Пустой b:\n",
      " [2.31584178e+077+2.31584178e+077j 2.41907520e-312+2.14321575e-312j\n",
      " 2.46151512e-312+2.31297541e-312j 2.35541533e-312+2.05833592e-312j\n",
      " 2.22809558e-312+2.56761491e-312j 2.48273508e-312+2.05833592e-312j\n",
      " 2.05833592e-312+2.29175545e-312j 2.07955588e-312+2.14321575e-312j]\n",
      "Заполненный b:\n",
      " [0.        +3.14159265j 0.        +3.14159265j 0.        +3.14159265j\n",
      " 0.        +3.14159265j 3.14159265+1.j         3.14159265+1.j\n",
      " 3.14159265+1.j         3.14159265+1.j        ]\n"
     ]
    }
   ],
   "source": [
    "arange = np.arange(8, dtype=int)\n",
    "\n",
    "zeros = np.zeros_like(arange)\n",
    "\n",
    "pis = np.full_like(arange, np.pi)\n",
    "print(pis)\n",
    "assert pis.dtype is arange.dtype\n",
    "pis = np.full_like(arange, np.pi, dtype=float)\n",
    "print(pis)\n",
    "\n",
    "b = np.empty_like(arange, dtype=complex)\n",
    "print('«Пустой» b:\\n', b)\n",
    "n = arange.shape[0]\n",
    "b[:n//2] = zeros[:n//2] + 1j * pis[:n//2]\n",
    "b[n//2:] = pis[n//2:] + 1j * np.ones(n//2)\n",
    "print('Заполненный b:\\n', b)"
   ]
  },
  {
   "cell_type": "markdown",
   "metadata": {},
   "source": [
    "## Срезы\n",
    "### Одномерье"
   ]
  },
  {
   "cell_type": "code",
   "execution_count": 10,
   "metadata": {},
   "outputs": [
    {
     "name": "stdout",
     "output_type": "stream",
     "text": [
      "[0 1 2 3 4 5 6 7 8 9]\n",
      "Первые 5 элементов: [0 1 2 3 4]\n",
      "Последние 3 элемента: [7 8 9]\n",
      "Элементы между 2 и 8 не включительно с шагом 3: [2 5]\n",
      "Задом наперёд: [9 8 7 6 5 4 3 2 1 0]\n"
     ]
    }
   ],
   "source": [
    "a = np.arange(10)\n",
    "print(a)\n",
    "print('Первые 5 элементов:', a[:5])\n",
    "print('Последние 3 элемента:', a[-3:])\n",
    "print('Элементы между 2 и 8 не включительно с шагом 3:', a[2:8:3])\n",
    "print('Задом наперёд:', a[::-1])"
   ]
  },
  {
   "cell_type": "markdown",
   "metadata": {},
   "source": [
    "Помните про объектную модель Питона: переменная — это ссылка на массив, а не сам массив"
   ]
  },
  {
   "cell_type": "code",
   "execution_count": 23,
   "metadata": {},
   "outputs": [
    {
     "name": "stdout",
     "output_type": "stream",
     "text": [
      "[-100.    1.    2.    3.    4.] [-100.    1.    2.    3.    4.]\n",
      "Пустой массив: [100.   1.   2.   3.   4.]\n",
      "Старый массив и бывший пустым массивы: [-100.    1.    2.    3.    4.] [2.71828183 1.         2.         3.         4.        ]\n"
     ]
    }
   ],
   "source": [
    "a = np.arange(5, dtype=np.float)\n",
    "b = a\n",
    "assert np.array_equal(a, b)\n",
    "assert a is b\n",
    "b[0] = -100\n",
    "print(a, b)\n",
    "\n",
    "c = np.empty_like(a)\n",
    "print('Пустой массив:', c)\n",
    "c[:] = a\n",
    "c[0] = np.exp(1)\n",
    "print('Старый массив и бывший пустым массивы:', a, c)"
   ]
  },
  {
   "cell_type": "markdown",
   "metadata": {},
   "source": [
    "Более простой способ скопировать массив целиком — это метод `.copy()`"
   ]
  },
  {
   "cell_type": "code",
   "execution_count": 12,
   "metadata": {},
   "outputs": [
    {
     "name": "stdout",
     "output_type": "stream",
     "text": [
      "[0. 0. 0. 0. 0.] [-100.    0.    0.    0.    0.]\n"
     ]
    }
   ],
   "source": [
    "a = np.zeros(5)\n",
    "b = a.copy()\n",
    "assert np.array_equal(a, b)\n",
    "assert b is not a\n",
    "b[0] = -100\n",
    "print(a, b)"
   ]
  },
  {
   "cell_type": "markdown",
   "metadata": {},
   "source": [
    "### Многомерье"
   ]
  },
  {
   "cell_type": "code",
   "execution_count": 36,
   "metadata": {},
   "outputs": [
    {
     "name": "stdout",
     "output_type": "stream",
     "text": [
      "[[ 0  1  2  3  4]\n",
      " [ 5  6  7  8  9]\n",
      " [10 11 12 13 14]]\n",
      "[[ 0  5 10]\n",
      " [ 1  6 11]\n",
      " [ 2  7 12]\n",
      " [ 3  8 13]\n",
      " [ 4  9 14]]\n"
     ]
    }
   ],
   "source": [
    "a = np.arange(15).reshape(3, 5)\n",
    "print(a)\n",
    "print(a.T)"
   ]
  },
  {
   "cell_type": "code",
   "execution_count": 13,
   "metadata": {
    "scrolled": true
   },
   "outputs": [
    {
     "name": "stdout",
     "output_type": "stream",
     "text": [
      "[[ 0  1  2  3  4]\n",
      " [ 5  6  7  8  9]\n",
      " [10 11 12 13 14]]\n",
      "Последний элемент: 14\n",
      "Вторая (индекс 1) строка: [5 6 7 8 9]\n",
      "Второй с конца столбец: [ 3  8 13]\n",
      "Чётные столбцы:\n",
      " [[ 0  2  4]\n",
      " [ 5  7  9]\n",
      " [10 12 14]]\n"
     ]
    }
   ],
   "source": [
    "a = np.arange(15).reshape(3, 5)\n",
    "print(a)\n",
    "print('Последний элемент:', a[-1, -1])\n",
    "print('Вторая (индекс 1) строка:', a[1])\n",
    "print('Второй с конца столбец:', a[:, -2])\n",
    "print('Чётные столбцы:\\n', a[:, ::2])"
   ]
  },
  {
   "cell_type": "code",
   "execution_count": 26,
   "metadata": {},
   "outputs": [
    {
     "name": "stdout",
     "output_type": "stream",
     "text": [
      "(4, 4)\n",
      "(16,)\n",
      "[[[ 0  1  2  3  4  5  6  7]]\n",
      "\n",
      " [[ 8  9 10 11 12 13 14 15]]]\n"
     ]
    }
   ],
   "source": [
    "a = np.arange(16)\n",
    "print(a)\n",
    "\n",
    "b1 = a.reshape(4, 4)\n",
    "b2 = a.reshape(4, -1)\n",
    "b3 = a.reshape(-1, 4)\n",
    "assert b1.shape == b2.shape == b3.shape\n",
    "assert np.array_equal(b1, b2)\n",
    "assert np.array_equal(b1, b3)\n",
    "\n",
    "a.resize(4, 4)\n",
    "print(a.shape)\n",
    "a.shape = 16\n",
    "print(a.shape)\n",
    "\n",
    "c = a.reshape(2, 1, 8)\n",
    "print(c)"
   ]
  },
  {
   "cell_type": "code",
   "execution_count": 28,
   "metadata": {},
   "outputs": [
    {
     "name": "stdout",
     "output_type": "stream",
     "text": [
      "[[ 0  1  2  3]\n",
      " [ 4  5  6  7]\n",
      " [ 8  9 10 11]\n",
      " [12 13 14 15]]\n",
      "3 (4, 1, 4)\n"
     ]
    }
   ],
   "source": [
    "a = np.arange(16).reshape(4, 4)\n",
    "print(a)\n",
    "\n",
    "b1 = a[:, np.newaxis, :]\n",
    "b2 = a.reshape(4, 1, 4)\n",
    "b3 = a.reshape(4, 1, -1)\n",
    "assert b1.shape == b2.shape == b3.shape\n",
    "assert np.array_equal(b1, b2)\n",
    "assert np.array_equal(b1, b3)\n",
    "print(b1.ndim, b1.shape)"
   ]
  },
  {
   "cell_type": "markdown",
   "metadata": {},
   "source": [
    "Такие «дополнительные» измерения могуть быть полезны при операциях\n",
    "с массивами разных размерностей"
   ]
  },
  {
   "cell_type": "code",
   "execution_count": 35,
   "metadata": {},
   "outputs": [
    {
     "name": "stdout",
     "output_type": "stream",
     "text": [
      "Сумма каждой строки a с b:\n",
      " [[0. 1. 2. 3.]\n",
      " [0. 1. 2. 3.]\n",
      " [0. 1. 2. 3.]\n",
      " [0. 1. 2. 3.]]\n",
      "Сумма каждого столбца a с b:\n",
      " [[0. 0. 0. 0.]\n",
      " [1. 1. 1. 1.]\n",
      " [2. 2. 2. 2.]\n",
      " [3. 3. 3. 3.]]\n"
     ]
    }
   ],
   "source": [
    "a = np.zeros((4, 4))\n",
    "b = np.arange(4)\n",
    "print('Сумма каждой строки a с b:\\n', a + b)\n",
    "print('Сумма каждого столбца a с b:\\n', a + b[:, np.newaxis])"
   ]
  },
  {
   "cell_type": "markdown",
   "metadata": {},
   "source": [
    "## Математические операции над массивами"
   ]
  },
  {
   "cell_type": "markdown",
   "metadata": {},
   "source": [
    "## Поиск по упорядеченному массиву"
   ]
  },
  {
   "cell_type": "markdown",
   "metadata": {},
   "source": [
    "# Чтение табличных данных"
   ]
  },
  {
   "cell_type": "markdown",
   "metadata": {},
   "source": [
    "## `open`"
   ]
  },
  {
   "cell_type": "code",
   "execution_count": 16,
   "metadata": {},
   "outputs": [
    {
     "name": "stdout",
     "output_type": "stream",
     "text": [
      "1 1.1\n",
      "2 0.5\n",
      "3.14 10\n",
      "4 -0.7\n"
     ]
    }
   ],
   "source": [
    "with open('file.dat') as f:\n",
    "    pairs = [line.split() for line in f]\n",
    "\n",
    "for x, y in pairs:\n",
    "    print(x, y)"
   ]
  },
  {
   "cell_type": "code",
   "execution_count": 17,
   "metadata": {},
   "outputs": [
    {
     "name": "stdout",
     "output_type": "stream",
     "text": [
      "[1.0, 2.0, 3.14, 4.0] [1.1, 0.5, 10.0, -0.7]\n"
     ]
    }
   ],
   "source": [
    "a = [float(x) for x, _ in pairs]\n",
    "b = [float(y) for _, y in pairs]\n",
    "print(a, b)"
   ]
  },
  {
   "cell_type": "markdown",
   "metadata": {},
   "source": [
    "## `numpy.genfromtxt`"
   ]
  },
  {
   "cell_type": "code",
   "execution_count": 18,
   "metadata": {},
   "outputs": [
    {
     "name": "stdout",
     "output_type": "stream",
     "text": [
      "[(1.  ,  1.1) (2.  ,  0.5) (3.14, 10. ) (4.  , -0.7)] [('x', '<f8'), ('y', '<f8')]\n",
      "[1.   2.   3.14 4.  ] [ 1.1  0.5 10.  -0.7]\n"
     ]
    }
   ],
   "source": [
    "import numpy as np\n",
    "\n",
    "data = np.genfromtxt('file.dat', names=('x', 'y'))\n",
    "print(data, data.dtype)\n",
    "print(data['x'], data['y'])"
   ]
  },
  {
   "cell_type": "markdown",
   "metadata": {},
   "source": [
    "## `pandas`"
   ]
  },
  {
   "cell_type": "code",
   "execution_count": 19,
   "metadata": {},
   "outputs": [
    {
     "name": "stdout",
     "output_type": "stream",
     "text": [
      "      x     y\n",
      "0  1.00   1.1\n",
      "1  2.00   0.5\n",
      "2  3.14  10.0\n",
      "3  4.00  -0.7\n",
      "0    1.00\n",
      "1    2.00\n",
      "2    3.14\n",
      "3    4.00\n",
      "Name: x, dtype: float64\n",
      "x    1.0\n",
      "y    1.1\n",
      "Name: 0, dtype: float64\n"
     ]
    }
   ],
   "source": [
    "import pandas as pd\n",
    "\n",
    "data = pd.read_csv('file.dat', sep=' ', names=('x', 'y'))\n",
    "print(data)\n",
    "print(data.x)\n",
    "print(data.iloc[0])"
   ]
  },
  {
   "cell_type": "markdown",
   "metadata": {},
   "source": [
    "# Запись табличных данных"
   ]
  },
  {
   "cell_type": "markdown",
   "metadata": {},
   "source": [
    "## open(filename, 'w')"
   ]
  },
  {
   "cell_type": "markdown",
   "metadata": {},
   "source": [
    "## pandas"
   ]
  },
  {
   "cell_type": "markdown",
   "metadata": {},
   "source": [
    "# Чтение и запись JSON"
   ]
  },
  {
   "cell_type": "markdown",
   "metadata": {},
   "source": [
    "# Бинарные форматы\n",
    "\n",
    "Общий подход: это [погуглить](http://googleitfor.me/?q=tiff+open+in+python) модуль Питона, который умеет делать то, что вам нужно. Попробуйте узнать как прочесть картинку формата TIFF в Питоне"
   ]
  },
  {
   "cell_type": "markdown",
   "metadata": {},
   "source": [
    "## FITS\n",
    "Будем использовать изображние галактики Сомбреро"
   ]
  },
  {
   "cell_type": "code",
   "execution_count": 20,
   "metadata": {},
   "outputs": [
    {
     "name": "stdout",
     "output_type": "stream",
     "text": [
      "[[3 3 3 ... 0 0 0]\n",
      " [3 3 3 ... 0 0 0]\n",
      " [3 3 3 ... 1 1 1]\n",
      " ...\n",
      " [5 5 5 ... 4 5 5]\n",
      " [5 5 5 ... 1 3 2]\n",
      " [5 5 5 ... 3 5 2]]\n"
     ]
    }
   ],
   "source": [
    "from astropy.io import fits\n",
    "from PIL import Image\n",
    "\n",
    "with fits.open('sombrero.fits') as fits_file:\n",
    "    hdu = fits_file[0]\n",
    "    data = hdu.data\n",
    "print(data)\n",
    "image = Image.fromarray(data[::-1])\n",
    "image.save('sombrero.png')"
   ]
  },
  {
   "cell_type": "markdown",
   "metadata": {},
   "source": [
    "`sombrero.png`\n",
    "![sombrero image](sombrero.png)"
   ]
  },
  {
   "cell_type": "markdown",
   "metadata": {},
   "source": [
    "## HDF"
   ]
  },
  {
   "cell_type": "markdown",
   "metadata": {},
   "source": [
    "## Чтение NetCDF\n",
    "\n",
    "Возьмём файл с температурой поверхности океана с [сайта UCAR](https://www.unidata.ucar.edu/software/netcdf/examples/files.html): <https://www.unidata.ucar.edu/software/netcdf/examples/tos_O1_2001-2002.nc>"
   ]
  },
  {
   "cell_type": "code",
   "execution_count": 21,
   "metadata": {},
   "outputs": [
    {
     "data": {
      "text/plain": [
       "273.07037"
      ]
     },
     "execution_count": 21,
     "metadata": {},
     "output_type": "execute_result"
    }
   ],
   "source": [
    "from scipy.io import netcdf\n",
    "\n",
    "with netcdf.netcdf_file('tos_O1_2001-2002.nc', mmap=False) as netcdf_file:\n",
    "    variables = netcdf_file.variables\n",
    "time_index = 6\n",
    "lat_index = 155\n",
    "lon_index = 37\n",
    "variables['tos'][time_index, lat_index, lon_index]"
   ]
  },
  {
   "cell_type": "markdown",
   "metadata": {},
   "source": [
    "# Построение графиков с `matplotlib`\n",
    "## Простой пример"
   ]
  },
  {
   "cell_type": "code",
   "execution_count": 22,
   "metadata": {},
   "outputs": [],
   "source": [
    "# Если хотим только сохранять картинки, не хотим выводить в окошко\n",
    "import matplotlib; matplotlib.use('Agg')\n",
    "import matplotlib.pyplot as plt\n",
    "import numpy as np\n",
    "\n",
    "x = np.linspace(0, np.pi, 100)\n",
    "u = np.sin(x)\n",
    "v = np.cos(x)\n",
    "plt.figure()  # новый график\n",
    "plt.plot(x, u, label='sinus')\n",
    "plt.plot(x, v, label='cosinus')\n",
    "plt.legend()\n",
    "plt.grid()\n",
    "plt.savefig('matplotlib.png')"
   ]
  },
  {
   "cell_type": "markdown",
   "metadata": {},
   "source": [
    "`matplotlib.png`\n",
    "![matplotlib image](matplotlib.png)\n",
    "## Контурные карты"
   ]
  },
  {
   "cell_type": "code",
   "execution_count": null,
   "metadata": {},
   "outputs": [],
   "source": []
  }
 ],
 "metadata": {
  "kernelspec": {
   "display_name": "Python 3",
   "language": "python",
   "name": "python3"
  },
  "language_info": {
   "codemirror_mode": {
    "name": "ipython",
    "version": 3
   },
   "file_extension": ".py",
   "mimetype": "text/x-python",
   "name": "python",
   "nbconvert_exporter": "python",
   "pygments_lexer": "ipython3",
   "version": "3.7.0"
  }
 },
 "nbformat": 4,
 "nbformat_minor": 2
}
